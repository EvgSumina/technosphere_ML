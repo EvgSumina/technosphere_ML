{
 "cells": [
  {
   "cell_type": "markdown",
   "metadata": {},
   "source": [
    "**Общая информация**\n",
    "\n",
    "**Срок сдачи:** 21 октября 2020, 08:30 \n",
    "\n",
    "**Штраф за опоздание:** по 1 баллу за 24 часа задержки. Через 5 дней домашнее задание сгорает.\n",
    "\n",
    "При отправлении ДЗ указывайте фамилию в названии файла\n",
    "Присылать ДЗ необходимо в виде ссылки на свой github репозиторий на почту ml1.sphere@mail.ru с указанием темы в следующем формате:\n",
    "\n",
    "[ML0220, Задание 1] Фамилия Имя.\n",
    "\n",
    "Используйте данный Ipython Notebook при оформлении домашнего задания."
   ]
  },
  {
   "cell_type": "markdown",
   "metadata": {},
   "source": [
    "\n",
    "**Штрафные баллы:**\n",
    "\n",
    "1. Отсутствие фамилии в имени скрипта (скрипт должен называться по аналогии со stroykova_hw1.ipynb) -0.5 баллов\n",
    "2. Все строчки должны быть выполнены. Нужно, чтобы output команды можно было увидеть уже в git'е. В противном случае -0.5 баллов\n"
   ]
  },
  {
   "cell_type": "code",
   "execution_count": 1,
   "metadata": {},
   "outputs": [],
   "source": [
    "import numpy as np\n",
    "import matplotlib.pyplot as plt\n",
    "import matplotlib.ticker as ticker\n",
    "\n",
    "import seaborn as sns\n",
    "from sklearn import datasets\n",
    "from sklearn.base import BaseEstimator\n",
    "from sklearn.datasets import fetch_mldata, fetch_20newsgroups\n",
    "\n",
    "from sklearn.model_selection import train_test_split\n",
    "from sklearn.model_selection import cross_val_score, cross_validate, KFold\n",
    "from sklearn.feature_extraction.text import CountVectorizer, TfidfVectorizer\n",
    "from sklearn.neighbors import KNeighborsClassifier, KDTree\n",
    "from sklearn.metrics import accuracy_score\n",
    "\n",
    "from scipy.spatial import distance"
   ]
  },
  {
   "cell_type": "markdown",
   "metadata": {},
   "source": [
    "##### Задание 1 (1 балл)\n",
    "Реализовать KNN в классе MyKNeighborsClassifier (обязательное условие: точность не ниже sklearn реализации)\n",
    "Разберитесь самостоятельно, какая мера расстояния используется в KNeighborsClassifier дефолтно и реализуйте свой алгоритм именно с этой мерой. \n",
    "Для подсчета расстояний можно использовать функции [отсюда](https://docs.scipy.org/doc/scipy/reference/spatial.distance.html)"
   ]
  },
  {
   "cell_type": "code",
   "execution_count": 2,
   "metadata": {},
   "outputs": [],
   "source": [
    "class MyKNeighborsClassifier(BaseEstimator):\n",
    "    \n",
    "    def __init__(self, n_neighbors, algorithm = 'brute', metric = 'euclidean'):\n",
    "        self.n_neighbors = n_neighbors\n",
    "        self.algorithm = algorithm\n",
    "        self.metric = metric\n",
    "    \n",
    "    \n",
    "    def fit(self, X, y):\n",
    "        self.y = np.array(y)\n",
    "        if self.algorithm == 'brute':\n",
    "            self.X = np.array(X)\n",
    "        elif self.algorithm == 'kd_tree':\n",
    "            self.tree = KDTree(X, metric = self.metric)\n",
    "    \n",
    "    \n",
    "    def find_kneighbors(self, X):\n",
    "        n = self.n_neighbors\n",
    "        D = distance.cdist(X, self.X, metric = self.metric)\n",
    "        return D.argsort(axis = 1)[:,:n]\n",
    "    \n",
    "    \n",
    "    def predict(self, X):\n",
    "        if self.algorithm == 'brute':\n",
    "            nearest_neighbors = self.find_kneighbors(X)\n",
    "        elif self.algorithm == 'kd_tree':\n",
    "            _, nearest_neighbors = self.tree.query(X , k = self.n_neighbors)\n",
    "        i = 0\n",
    "        predict = np.zeros(X.shape[0])\n",
    "        for row in nearest_neighbors:\n",
    "            predict[i] = np.argmax(np.bincount(self.y[row]))\n",
    "            i += 1\n",
    "        return predict.astype(int)\n"
   ]
  },
  {
   "cell_type": "markdown",
   "metadata": {},
   "source": [
    "**IRIS**\n",
    "\n",
    "В библиотеке scikit-learn есть несколько датасетов из коробки. Один из них [Ирисы Фишера](https://ru.wikipedia.org/wiki/%D0%98%D1%80%D0%B8%D1%81%D1%8B_%D0%A4%D0%B8%D1%88%D0%B5%D1%80%D0%B0)"
   ]
  },
  {
   "cell_type": "code",
   "execution_count": 3,
   "metadata": {},
   "outputs": [],
   "source": [
    "iris = datasets.load_iris()"
   ]
  },
  {
   "cell_type": "code",
   "execution_count": 4,
   "metadata": {},
   "outputs": [],
   "source": [
    "X_train, X_test, y_train, y_test = train_test_split(iris.data, iris.target, test_size=0.1, stratify=iris.target)"
   ]
  },
  {
   "cell_type": "code",
   "execution_count": 5,
   "metadata": {},
   "outputs": [],
   "source": [
    "clf = KNeighborsClassifier(n_neighbors=2, algorithm='brute')\n",
    "my_clf = MyKNeighborsClassifier(n_neighbors=2, algorithm='brute')"
   ]
  },
  {
   "cell_type": "code",
   "execution_count": 6,
   "metadata": {},
   "outputs": [],
   "source": [
    "clf.fit(X_train, y_train)\n",
    "my_clf.fit(X_train, y_train)"
   ]
  },
  {
   "cell_type": "code",
   "execution_count": 7,
   "metadata": {},
   "outputs": [],
   "source": [
    "sklearn_pred = clf.predict(X_test)\n",
    "my_clf_pred = my_clf.predict(X_test)\n",
    "assert abs( accuracy_score(y_test, my_clf_pred) -  accuracy_score(y_test, sklearn_pred ) )<0.005, \"Score must be simillar\""
   ]
  },
  {
   "cell_type": "markdown",
   "metadata": {},
   "source": [
    "**Задание 2 (0.5 балла)**\n",
    "\n",
    "Давайте попробуем добиться скорости работы на fit, predict сравнимой со sklearn для iris. Допускается замедление не более чем в 2 раза. \n",
    "Для этого используем numpy. "
   ]
  },
  {
   "cell_type": "code",
   "execution_count": 8,
   "metadata": {},
   "outputs": [
    {
     "name": "stdout",
     "output_type": "stream",
     "text": [
      "Wall time: 0 ns\n"
     ]
    },
    {
     "data": {
      "text/plain": [
       "KNeighborsClassifier(algorithm='brute', leaf_size=30, metric='minkowski',\n",
       "                     metric_params=None, n_jobs=None, n_neighbors=2, p=2,\n",
       "                     weights='uniform')"
      ]
     },
     "execution_count": 8,
     "metadata": {},
     "output_type": "execute_result"
    }
   ],
   "source": [
    "%time clf.fit(X_train, y_train)"
   ]
  },
  {
   "cell_type": "code",
   "execution_count": 9,
   "metadata": {},
   "outputs": [
    {
     "name": "stdout",
     "output_type": "stream",
     "text": [
      "Wall time: 0 ns\n"
     ]
    }
   ],
   "source": [
    "%time my_clf.fit(X_train, y_train)"
   ]
  },
  {
   "cell_type": "code",
   "execution_count": 10,
   "metadata": {},
   "outputs": [
    {
     "name": "stdout",
     "output_type": "stream",
     "text": [
      "Wall time: 1.96 ms\n"
     ]
    },
    {
     "data": {
      "text/plain": [
       "array([1, 0, 0, 0, 0, 1, 2, 1, 2, 1, 1, 2, 2, 0, 2])"
      ]
     },
     "execution_count": 10,
     "metadata": {},
     "output_type": "execute_result"
    }
   ],
   "source": [
    "%time clf.predict(X_test)"
   ]
  },
  {
   "cell_type": "code",
   "execution_count": 11,
   "metadata": {},
   "outputs": [
    {
     "name": "stdout",
     "output_type": "stream",
     "text": [
      "Wall time: 996 µs\n"
     ]
    },
    {
     "data": {
      "text/plain": [
       "array([1, 0, 0, 0, 0, 1, 2, 1, 2, 1, 1, 2, 2, 0, 2])"
      ]
     },
     "execution_count": 11,
     "metadata": {},
     "output_type": "execute_result"
    }
   ],
   "source": [
    "%time my_clf.predict(X_test)"
   ]
  },
  {
   "cell_type": "markdown",
   "metadata": {},
   "source": [
    "###### Задание 3 (1 балл)\n",
    "Добавьте algorithm='kd_tree' в реализацию KNN (использовать KDTree из sklearn.neighbors). Необходимо добиться скорости работы на fit,  predict сравнимой со sklearn для iris. Допускается замедление не более чем в 2 раза. \n",
    "Для этого используем numpy. Точность не должна уступать значению KNN из sklearn. "
   ]
  },
  {
   "cell_type": "code",
   "execution_count": 12,
   "metadata": {},
   "outputs": [],
   "source": [
    "clf = KNeighborsClassifier(n_neighbors=2, algorithm='kd_tree')\n",
    "my_clf = MyKNeighborsClassifier(n_neighbors=2, algorithm='kd_tree')"
   ]
  },
  {
   "cell_type": "code",
   "execution_count": 13,
   "metadata": {},
   "outputs": [],
   "source": [
    "X_train, X_test, y_train, y_test = train_test_split(iris.data, iris.target, test_size=0.1, stratify=iris.target)"
   ]
  },
  {
   "cell_type": "code",
   "execution_count": 14,
   "metadata": {},
   "outputs": [
    {
     "name": "stdout",
     "output_type": "stream",
     "text": [
      "Wall time: 6.98 ms\n"
     ]
    },
    {
     "data": {
      "text/plain": [
       "KNeighborsClassifier(algorithm='kd_tree', leaf_size=30, metric='minkowski',\n",
       "                     metric_params=None, n_jobs=None, n_neighbors=2, p=2,\n",
       "                     weights='uniform')"
      ]
     },
     "execution_count": 14,
     "metadata": {},
     "output_type": "execute_result"
    }
   ],
   "source": [
    "%time clf.fit(X_train, y_train)"
   ]
  },
  {
   "cell_type": "code",
   "execution_count": 15,
   "metadata": {},
   "outputs": [
    {
     "name": "stdout",
     "output_type": "stream",
     "text": [
      "Wall time: 0 ns\n"
     ]
    }
   ],
   "source": [
    "%time my_clf.fit(X_train, y_train)"
   ]
  },
  {
   "cell_type": "code",
   "execution_count": 16,
   "metadata": {},
   "outputs": [
    {
     "name": "stdout",
     "output_type": "stream",
     "text": [
      "Wall time: 2.99 ms\n"
     ]
    },
    {
     "data": {
      "text/plain": [
       "array([1, 0, 0, 0, 2, 2, 2, 1, 1, 2, 1, 1, 0, 0, 2])"
      ]
     },
     "execution_count": 16,
     "metadata": {},
     "output_type": "execute_result"
    }
   ],
   "source": [
    "%time clf.predict(X_test)"
   ]
  },
  {
   "cell_type": "code",
   "execution_count": 17,
   "metadata": {},
   "outputs": [
    {
     "name": "stdout",
     "output_type": "stream",
     "text": [
      "Wall time: 996 µs\n"
     ]
    },
    {
     "data": {
      "text/plain": [
       "array([1, 0, 0, 0, 2, 2, 2, 1, 1, 2, 1, 1, 0, 0, 2])"
      ]
     },
     "execution_count": 17,
     "metadata": {},
     "output_type": "execute_result"
    }
   ],
   "source": [
    "%time my_clf.predict(X_test)"
   ]
  },
  {
   "cell_type": "code",
   "execution_count": 18,
   "metadata": {},
   "outputs": [],
   "source": [
    "sklearn_pred = clf.predict(X_test)\n",
    "my_clf_pred = my_clf.predict(X_test)\n",
    "assert abs( accuracy_score(y_test, my_clf_pred) -  accuracy_score(y_test, sklearn_pred ) )<0.005, \"Score must be simillar\""
   ]
  },
  {
   "cell_type": "markdown",
   "metadata": {},
   "source": [
    "**Задание 4 (2.5 балла)**\n",
    "\n",
    "Рассмотрим новый датасет 20 newsgroups"
   ]
  },
  {
   "cell_type": "code",
   "execution_count": 21,
   "metadata": {},
   "outputs": [],
   "source": [
    "newsgroups = fetch_20newsgroups(subset='train',remove=['headers','footers', 'quotes'])"
   ]
  },
  {
   "cell_type": "code",
   "execution_count": 22,
   "metadata": {},
   "outputs": [],
   "source": [
    "data = newsgroups['data']\n",
    "target = newsgroups['target']"
   ]
  },
  {
   "cell_type": "markdown",
   "metadata": {},
   "source": [
    "Преобразуйте текстовые данные из data с помощью [CountVectorizer](https://scikit-learn.org/stable/modules/generated/sklearn.feature_extraction.text.CountVectorizer.html). Словарь можно ограничить по частотности."
   ]
  },
  {
   "cell_type": "code",
   "execution_count": 23,
   "metadata": {},
   "outputs": [],
   "source": [
    "count_vect = CountVectorizer(max_df = 0.04, min_df = 0.005)\n",
    "X_train_counts = count_vect.fit_transform(data)"
   ]
  },
  {
   "cell_type": "code",
   "execution_count": 24,
   "metadata": {},
   "outputs": [],
   "source": [
    "tfidfVect = TfidfVectorizer(max_df = 0.04, min_df = 0.005)\n",
    "X_train_tfidf = tfidfVect.fit_transform(data)"
   ]
  },
  {
   "cell_type": "code",
   "execution_count": 25,
   "metadata": {},
   "outputs": [],
   "source": [
    "X_train_counts = X_train_counts.toarray()"
   ]
  },
  {
   "cell_type": "code",
   "execution_count": 26,
   "metadata": {},
   "outputs": [],
   "source": [
    "X_train_tfidf = X_train_tfidf.toarray()"
   ]
  },
  {
   "cell_type": "markdown",
   "metadata": {},
   "source": [
    "*Так мы получили векторное представление наших текстов. Значит можно приступать к задаче обучения модели*"
   ]
  },
  {
   "cell_type": "markdown",
   "metadata": {},
   "source": [
    "Реализуйте разбиение выборки для кросс-валидации на 3 фолдах. Разрешено использовать sklearn.cross_validation"
   ]
  },
  {
   "cell_type": "code",
   "execution_count": 25,
   "metadata": {},
   "outputs": [],
   "source": [
    "cv = KFold(n_splits = 3, shuffle = True)"
   ]
  },
  {
   "cell_type": "code",
   "execution_count": 26,
   "metadata": {},
   "outputs": [],
   "source": [
    "array_of_classifiers = []\n",
    "for train_indices, test_indices in cv.split(X_train_counts, target):\n",
    "    clf = MyKNeighborsClassifier(n_neighbors = 2, algorithm = 'brute')\n",
    "    X_train, X_test = X_train_counts[train_indices], X_train_counts[test_indices]\n",
    "    y_train, y_test = target[train_indices], target[test_indices]\n",
    "    clf.fit(X_train, y_train)\n",
    "    array_of_classifiers.append(clf)"
   ]
  },
  {
   "cell_type": "markdown",
   "metadata": {},
   "source": [
    "Напишите метод, позволяющий найти оптимальное количество ближайших соседей(дающее максимальную точность в среднем на валидации на 3 фолдах).\n",
    "Постройте график зависимости средней точности от количества соседей. Можно рассмотреть число соседей от 1 до 10."
   ]
  },
  {
   "cell_type": "code",
   "execution_count": 47,
   "metadata": {},
   "outputs": [],
   "source": [
    "def optimal_number(X, y, k_list, algorithm = 'brute', metric = 'euclidean', return_accuracy = False):\n",
    "        accuracy_array = np.zeros(len(k_list))\n",
    "        i = 0\n",
    "        for k in k_list:\n",
    "            clf = MyKNeighborsClassifier(n_neighbors = k, algorithm = algorithm, metric = metric)\n",
    "            accuracy_array[i] = cross_val_score(clf, X, y, cv = 3, scoring = 'accuracy').mean()\n",
    "            i += 1\n",
    "        if return_accuracy:\n",
    "            return accuracy_array, np.argmax(accuracy_array) + 1\n",
    "        else:\n",
    "            return k_list[np.argmax(accuracy_array)]"
   ]
  },
  {
   "cell_type": "code",
   "execution_count": 28,
   "metadata": {},
   "outputs": [],
   "source": [
    "k_list = np.arange(1, 11)"
   ]
  },
  {
   "cell_type": "code",
   "execution_count": 31,
   "metadata": {},
   "outputs": [
    {
     "name": "stdout",
     "output_type": "stream",
     "text": [
      "Accuracy score:\n",
      "[0.29679983 0.26772035 0.26294771 0.26886989 0.27258201 0.2698422\n",
      " 0.26984211 0.26798621 0.26657212 0.26595331]\n",
      "Optimal number of neighbors:  1\n"
     ]
    }
   ],
   "source": [
    "count_euclid_accuracy, count_euclid_neighbors = optimal_number(X_train_counts, target, k_list, \n",
    "                                                               metric = 'euclidean', return_accuracy = True)\n",
    "print('Accuracy score:')\n",
    "print(count_euclid_accuracy)\n",
    "print('Optimal number of neighbors: ', count_euclid_neighbors)"
   ]
  },
  {
   "cell_type": "code",
   "execution_count": 32,
   "metadata": {},
   "outputs": [
    {
     "name": "stdout",
     "output_type": "stream",
     "text": [
      "Accuracy score:\n",
      "[0.43538925 0.41514916 0.43901302 0.46155178 0.47463311 0.48373646\n",
      " 0.48983559 0.49425477 0.49876235 0.50839627]\n",
      "Optimal number of neighbors:  10\n"
     ]
    }
   ],
   "source": [
    "count_cosine_accuracy, count_cosine_neighbors = optimal_number(X_train_counts, target, k_list, \n",
    "                                                               metric = 'cosine', return_accuracy = True)\n",
    "print('Accuracy score:')\n",
    "print(count_cosine_accuracy)\n",
    "print('Optimal number of neighbors: ', count_cosine_neighbors)"
   ]
  },
  {
   "cell_type": "code",
   "execution_count": 35,
   "metadata": {},
   "outputs": [
    {
     "name": "stdout",
     "output_type": "stream",
     "text": [
      "Accuracy score:\n",
      "[0.19294662 0.15458717 0.14097538 0.13434668 0.12895519 0.12851329\n",
      " 0.12267974 0.11843712 0.11552024 0.11225041]\n",
      "Optimal number of neighbors:  1\n"
     ]
    }
   ],
   "source": [
    "tfidf_euclid_accuracy, tfidf_euclid_neighbors = optimal_number(X_train_tfidf, target, k_list,\n",
    "                                                               metric = 'euclidean', return_accuracy = True)\n",
    "print('Accuracy score:')\n",
    "print(tfidf_euclid_accuracy)\n",
    "print('Optimal number of neighbors: ', tfidf_euclid_neighbors)"
   ]
  },
  {
   "cell_type": "code",
   "execution_count": 36,
   "metadata": {},
   "outputs": [
    {
     "name": "stdout",
     "output_type": "stream",
     "text": [
      "Accuracy score:\n",
      "[0.44705652 0.431147   0.45368561 0.47569386 0.49160328 0.50229777\n",
      " 0.51149055 0.51590933 0.52342215 0.52801838]\n",
      "Optimal number of neighbors:  10\n"
     ]
    }
   ],
   "source": [
    "tfidf_cosine_accuracy, tfidf_cosine_neighbors = optimal_number(X_train_tfidf, target, k_list, \n",
    "                                                               metric = 'cosine', return_accuracy = True)\n",
    "print('Accuracy score:')\n",
    "print(tfidf_cosine_accuracy)\n",
    "print('Optimal number of neighbors: ', tfidf_cosine_neighbors)"
   ]
  },
  {
   "cell_type": "code",
   "execution_count": 52,
   "metadata": {},
   "outputs": [
    {
     "data": {
      "text/plain": [
       "<matplotlib.legend.Legend at 0x21e956eaec8>"
      ]
     },
     "execution_count": 52,
     "metadata": {},
     "output_type": "execute_result"
    },
    {
     "data": {
      "image/png": "[encoded data removed]",
      "text/plain": [
       "<Figure size 1008x576 with 1 Axes>"
      ]
     },
     "metadata": {},
     "output_type": "display_data"
    }
   ],
   "source": [
    "fig = plt.figure(figsize = (14, 8))\n",
    "ax1 = fig.add_subplot(111)\n",
    "plt.tick_params(axis='both', which='major', labelsize=14)\n",
    "plt.title(\"Зависимость точности алгоритма от количества соседей\", fontsize = 19)\n",
    "plt.xlabel(\"Количество соседей\", fontsize = 17) \n",
    "ax1.xaxis.set_major_locator(ticker.MultipleLocator(1))\n",
    "plt.ylabel(\"Точность предсказания\", fontsize = 17) \n",
    "sns.set_style(\"whitegrid\", {'axes.axisbelow': False, 'axes.grid': True})\n",
    "sns.set_palette('bright')\n",
    "ax1.plot(k_list, count_euclid_accuracy, label = \"Точность предсказания для мешка слов с евклидовой метрикой\")\n",
    "ax1.plot(k_list, count_cosine_accuracy, label = \"Точность предсказания для мешка слов с косинусной метрикой\")\n",
    "ax1.plot(k_list, tfidf_euclid_accuracy, label = \"Точность предсказания для TFIDF с евклидовой метрикой\")\n",
    "ax1.plot(k_list, tfidf_cosine_accuracy, label = \"Точность предсказания для TFIDF с косинусной метрикой\")\n",
    "ax1.legend(fontsize = 15)"
   ]
  },
  {
   "cell_type": "markdown",
   "metadata": {},
   "source": [
    "Как изменится качество на валидации, если:\n",
    "\n",
    "1. Используется косинусная метрика вместо евклидовой.\n",
    "2. К текстам применяется TfIdf векторизацию( sklearn.feature_extraction.text.TfidfVectorizer)\n",
    "\n",
    "Сравните модели, выберите лучшую."
   ]
  },
  {
   "cell_type": "markdown",
   "metadata": {},
   "source": [
    "### Промежуточные выводы"
   ]
  },
  {
   "cell_type": "markdown",
   "metadata": {},
   "source": [
    "Можно заметить, что наибольшая точность модели достигается при 10 соседях, использовании косинусной метрики и TfIdf векторизации. К тому же, по графику видно, что точность продолжает расти с ростом числа соседей, из этого можно сделать предположение, что необходимо проверить большее число соседей. "
   ]
  },
  {
   "cell_type": "markdown",
   "metadata": {},
   "source": [
    "Загрузим  теперь test  часть нашей выборки и преобразуем её аналогично с train частью. Не забудьте, что наборы слов в train и test части могут отличаться."
   ]
  },
  {
   "cell_type": "code",
   "execution_count": 27,
   "metadata": {},
   "outputs": [],
   "source": [
    "newsgroups = fetch_20newsgroups(subset='test',remove=['headers','footers', 'quotes'])"
   ]
  },
  {
   "cell_type": "code",
   "execution_count": 28,
   "metadata": {},
   "outputs": [],
   "source": [
    "test_data = newsgroups['data']\n",
    "test_target = newsgroups['target']"
   ]
  },
  {
   "cell_type": "code",
   "execution_count": 29,
   "metadata": {},
   "outputs": [],
   "source": [
    "X_test_tfidf = tfidfVect.transform(test_data).toarray()"
   ]
  },
  {
   "cell_type": "code",
   "execution_count": 32,
   "metadata": {},
   "outputs": [
    {
     "data": {
      "text/plain": [
       "0.46229421136484333"
      ]
     },
     "execution_count": 32,
     "metadata": {},
     "output_type": "execute_result"
    }
   ],
   "source": [
    "clf = MyKNeighborsClassifier(n_neighbors = 10, algorithm = 'brute', metric = 'cosine')\n",
    "clf.fit(X_train_tfidf, target)\n",
    "y_pred = clf.predict(X_test_tfidf)\n",
    "accuracy_score(y_pred, test_target)"
   ]
  },
  {
   "cell_type": "code",
   "execution_count": 70,
   "metadata": {},
   "outputs": [
    {
     "data": {
      "text/plain": [
       "array([0.54770318, 0.52208481, 0.52738516, 0.52650177, 0.54907162,\n",
       "       0.52608311, 0.56675508, 0.5596817 , 0.53846154, 0.52519894])"
      ]
     },
     "execution_count": 70,
     "metadata": {},
     "output_type": "execute_result"
    }
   ],
   "source": [
    "cross_val_score(clf, X_train_tfidf, target, cv = 10, scoring='accuracy')"
   ]
  },
  {
   "cell_type": "markdown",
   "metadata": {},
   "source": [
    "Запомним эти результаты, чтобы потом сравнить со скором на большем числе соседей. У нас возникало предположение, что для большего числа соседей качество улучшится. Проверим это."
   ]
  },
  {
   "cell_type": "code",
   "execution_count": 34,
   "metadata": {},
   "outputs": [],
   "source": [
    "k_list = np.arange(10, 250, 10)"
   ]
  },
  {
   "cell_type": "code",
   "execution_count": 37,
   "metadata": {},
   "outputs": [
    {
     "name": "stdout",
     "output_type": "stream",
     "text": [
      "Accuracy score:\n",
      "[0.52801838 0.54772876 0.56134064 0.56938418 0.57539438 0.58078575\n",
      " 0.58237651 0.58334882 0.58122763 0.58334871 0.58387886 0.58644221\n",
      " 0.58432104 0.58449776 0.58573513 0.58644219 0.58387907 0.58440929\n",
      " 0.5826416  0.58290676 0.58299508 0.58113895 0.5820227  0.58140416]\n",
      "Optimal number of neighbors:  12\n"
     ]
    }
   ],
   "source": [
    "tfidf_cosine_accuracy, tfidf_cosine_neighbors = optimal_number(X_train_tfidf, target, k_list, \n",
    "                                                               metric = 'cosine', return_accuracy = True)\n",
    "print('Accuracy score:')\n",
    "print(tfidf_cosine_accuracy)\n",
    "print('Optimal number of neighbors: ', tfidf_cosine_neighbors)"
   ]
  },
  {
   "cell_type": "markdown",
   "metadata": {},
   "source": [
    "Здесь было 12 - это номер в массиве. Потом я немного поменяла функцию, поэтому, если вы перезапустите, ответом должно стать 120."
   ]
  },
  {
   "cell_type": "code",
   "execution_count": 46,
   "metadata": {
    "scrolled": true
   },
   "outputs": [
    {
     "data": {
      "text/plain": [
       "<matplotlib.legend.Legend at 0x21c88bb25c8>"
      ]
     },
     "execution_count": 46,
     "metadata": {},
     "output_type": "execute_result"
    },
    {
     "data": {
      "image/png": "[encoded data removed]",
      "text/plain": [
       "<Figure size 1008x576 with 1 Axes>"
      ]
     },
     "metadata": {},
     "output_type": "display_data"
    }
   ],
   "source": [
    "fig = plt.figure(figsize = (14, 8))\n",
    "ax1 = fig.add_subplot(111)\n",
    "plt.tick_params(axis='both', which='major', labelsize=14)\n",
    "plt.xticks(rotation=45)\n",
    "plt.title(\"Зависимость точности алгоритма от количества соседей\", fontsize = 19)\n",
    "plt.xlabel(\"Количество соседей\", fontsize = 17) \n",
    "ax1.xaxis.set_major_locator(ticker.MultipleLocator(10))\n",
    "plt.ylabel(\"Точность предсказания\", fontsize = 17) \n",
    "sns.set_style(\"whitegrid\", {'axes.axisbelow': False, 'axes.grid': True})\n",
    "sns.set_palette('bright')\n",
    "ax1.plot(k_list, tfidf_cosine_accuracy, label = \"Точность предсказания для TFIDF с косинусной метрикой\")\n",
    "ax1.legend(fontsize = 15)"
   ]
  },
  {
   "cell_type": "markdown",
   "metadata": {},
   "source": [
    "Заметим, что, начиная с 90 соседей, точность перестает существенно увеличиваться. Но она действительно значительно выше, чем при 10 ближайших соседях."
   ]
  },
  {
   "cell_type": "markdown",
   "metadata": {},
   "source": [
    "На кросс-валидации получаем лучшее число соседей, равное 120. Выберем это значение параметра в нашей модели."
   ]
  },
  {
   "cell_type": "code",
   "execution_count": 40,
   "metadata": {},
   "outputs": [
    {
     "data": {
      "text/plain": [
       "array([0.59893993, 0.57332155, 0.57862191, 0.57862191, 0.60300619,\n",
       "       0.57471264, 0.61361627, 0.61007958, 0.6127321 , 0.56498674])"
      ]
     },
     "execution_count": 40,
     "metadata": {},
     "output_type": "execute_result"
    }
   ],
   "source": [
    "clf = MyKNeighborsClassifier(n_neighbors = 120, algorithm = 'brute', metric = 'cosine')\n",
    "cross_val_score(clf, X_train_tfidf, target, cv = 10, scoring = 'accuracy')"
   ]
  },
  {
   "cell_type": "markdown",
   "metadata": {},
   "source": [
    "Кросс-валидация не показывает переобученности, так что мы можем спокойно подставить этот параметр."
   ]
  },
  {
   "cell_type": "code",
   "execution_count": 41,
   "metadata": {},
   "outputs": [
    {
     "data": {
      "text/plain": [
       "0.5491237387148168"
      ]
     },
     "execution_count": 41,
     "metadata": {},
     "output_type": "execute_result"
    }
   ],
   "source": [
    "clf = MyKNeighborsClassifier(n_neighbors = 120, algorithm = 'brute', metric = 'cosine')\n",
    "clf.fit(X_train_tfidf, target)\n",
    "y_pred = clf.predict(X_test_tfidf)\n",
    "accuracy_score(y_pred, test_target)"
   ]
  },
  {
   "cell_type": "markdown",
   "metadata": {},
   "source": [
    "Оценим точность вашей лучшей модели на test части датасета. Отличается ли оно от кросс-валидации? Попробуйте сделать выводы, почему отличается качество."
   ]
  },
  {
   "cell_type": "markdown",
   "metadata": {},
   "source": [
    "# Выводы"
   ]
  },
  {
   "cell_type": "markdown",
   "metadata": {},
   "source": [
    "Наилучшая точность была достигнута при использовании косинусной метрики и TfIdf векторизации. Косинусная метрика лучше евклидовой, т.к. она учитывает то, что тексты могут различаться по длине. Проведено небольшое исследование, которое показало, что до числа соседей, равного 100, наблюдается рост точности, которая затем остается примерно одинаковой. "
   ]
  },
  {
   "cell_type": "markdown",
   "metadata": {},
   "source": [
    "С помощью метода optimal_number(X, y, k_list, algorithm, metric, return_accuracy) можно получить оптимальное число ближайших соседей и точность по всем соседям. Возвращаемое значение зависит от установленного флага return_accuracy."
   ]
  },
  {
   "cell_type": "markdown",
   "metadata": {},
   "source": [
    "Точность лучшей модели на test части датасета составила 0.55. Это меньше, чем значение на кросс-валидации, т.к. при предсказании на тестовой выборке данные словаря могут существенно отличаться от тренировочной выборки. К тому же, на тестовой выборке всегда присутствует небольшая неизбежная переобученность."
   ]
  },
  {
   "cell_type": "markdown",
   "metadata": {},
   "source": [
    "Размер словаря пришлось ограничить, т.к. моему ноутбуку было грустно :( Были выбраны параметры max_df = 0.04; min_df = 0.005 и для CountVectorizer, и для TfidfVectorizer."
   ]
  }
 ],
 "metadata": {
  "kernelspec": {
   "display_name": "Python 3",
   "language": "python",
   "name": "python3"
  },
  "language_info": {
   "codemirror_mode": {
    "name": "ipython",
    "version": 3
   },
   "file_extension": ".py",
   "mimetype": "text/x-python",
   "name": "python",
   "nbconvert_exporter": "python",
   "pygments_lexer": "ipython3",
   "version": "3.7.4"
  }
 },
 "nbformat": 4,
 "nbformat_minor": 2
}
